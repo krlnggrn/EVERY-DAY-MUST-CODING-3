{
  "nbformat": 4,
  "nbformat_minor": 0,
  "metadata": {
    "colab": {
      "name": "EVERY-DAY-MUST-CODING-#3.ipynb",
      "provenance": [],
      "collapsed_sections": [],
      "toc_visible": true,
      "mount_file_id": "1T24aejB4s9F0khiHUdP9QyQnwRwoDIeL",
      "authorship_tag": "ABX9TyM44j4ThSnGORujkIsJWC1a",
      "include_colab_link": true
    },
    "kernelspec": {
      "name": "python3",
      "display_name": "Python 3"
    },
    "language_info": {
      "name": "python"
    }
  },
  "cells": [
    {
      "cell_type": "markdown",
      "metadata": {
        "id": "view-in-github",
        "colab_type": "text"
      },
      "source": [
        "<a href=\"https://colab.research.google.com/github/krlnggrn/EVERY-DAY-MUST-CODING-3/blob/main/EVERY_DAY_MUST_CODING_3.ipynb\" target=\"_parent\"><img src=\"https://colab.research.google.com/assets/colab-badge.svg\" alt=\"Open In Colab\"/></a>"
      ]
    },
    {
      "cell_type": "markdown",
      "source": [
        "#MACHINE LEARNING (ML) - numpy"
      ],
      "metadata": {
        "id": "QcqaqeIM7ppH"
      }
    },
    {
      "cell_type": "code",
      "source": [
        "import numpy"
      ],
      "metadata": {
        "id": "DsO-jVKT8K7U"
      },
      "execution_count": null,
      "outputs": []
    },
    {
      "cell_type": "code",
      "execution_count": null,
      "metadata": {
        "colab": {
          "base_uri": "https://localhost:8080/"
        },
        "id": "icK9aeAl7gSz",
        "outputId": "5eb205cb-cca6-4eb8-b14b-3cd1e6b36fd9"
      },
      "outputs": [
        {
          "output_type": "execute_result",
          "data": {
            "text/plain": [
              "89.76923076923077"
            ]
          },
          "metadata": {},
          "execution_count": 3
        }
      ],
      "source": [
        "#mean\n",
        "speed = [99,86,87,88,111,86,103,87,94,78,77,85,86]\n",
        "x = numpy.mean(speed)\n",
        "x"
      ]
    },
    {
      "cell_type": "code",
      "source": [
        "#median\n",
        "x = numpy.median(speed)\n",
        "x"
      ],
      "metadata": {
        "colab": {
          "base_uri": "https://localhost:8080/"
        },
        "id": "Xy2U2Wze8TnC",
        "outputId": "1e94d546-2d30-4ed5-ec44-89c82955340a"
      },
      "execution_count": null,
      "outputs": [
        {
          "output_type": "execute_result",
          "data": {
            "text/plain": [
              "87.0"
            ]
          },
          "metadata": {},
          "execution_count": 4
        }
      ]
    },
    {
      "cell_type": "markdown",
      "source": [
        "Pake SCIPY"
      ],
      "metadata": {
        "id": "ZtQK5uYb88Sf"
      }
    },
    {
      "cell_type": "code",
      "source": [
        "#mode\n",
        "from scipy import stats\n",
        "x = stats.mode(speed)\n",
        "x"
      ],
      "metadata": {
        "colab": {
          "base_uri": "https://localhost:8080/"
        },
        "id": "jDqb7Ia98dGS",
        "outputId": "63536e0a-5fb6-415e-a9ae-15113af02133"
      },
      "execution_count": null,
      "outputs": [
        {
          "output_type": "execute_result",
          "data": {
            "text/plain": [
              "ModeResult(mode=array([86]), count=array([3]))"
            ]
          },
          "metadata": {},
          "execution_count": 7
        }
      ]
    },
    {
      "cell_type": "markdown",
      "source": [
        "## Std. Deviation\n"
      ],
      "metadata": {
        "id": "pXlt7JN_-exc"
      }
    },
    {
      "cell_type": "code",
      "source": [
        "speed = [86,87,88,86,87,85,86]\n",
        "x = numpy.std(speed)\n",
        "x"
      ],
      "metadata": {
        "colab": {
          "base_uri": "https://localhost:8080/"
        },
        "id": "p3o5XuEt-iTD",
        "outputId": "5fca1600-a61b-4320-9f15-ceb58a7e142c"
      },
      "execution_count": null,
      "outputs": [
        {
          "output_type": "execute_result",
          "data": {
            "text/plain": [
              "0.9035079029052513"
            ]
          },
          "metadata": {},
          "execution_count": 8
        }
      ]
    },
    {
      "cell_type": "markdown",
      "source": [
        "![image.png](data:image/png;base64,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)"
      ],
      "metadata": {
        "id": "iCqkcKfs-tvu"
      }
    },
    {
      "cell_type": "code",
      "source": [
        "speed = [32,111,138,28,59,77,97]\n",
        "x = numpy.std(speed)\n",
        "x"
      ],
      "metadata": {
        "colab": {
          "base_uri": "https://localhost:8080/"
        },
        "id": "XwIsZh7s-xBh",
        "outputId": "f0fbb3b0-f96e-4b8e-c688-cca29b4a4cf8"
      },
      "execution_count": null,
      "outputs": [
        {
          "output_type": "execute_result",
          "data": {
            "text/plain": [
              "37.84501153334721"
            ]
          },
          "metadata": {},
          "execution_count": 9
        }
      ]
    },
    {
      "cell_type": "markdown",
      "source": [
        "![image.png](data:image/png;base64,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)"
      ],
      "metadata": {
        "id": "lzwz-qVE-7l5"
      }
    },
    {
      "cell_type": "markdown",
      "source": [
        "## Varians"
      ],
      "metadata": {
        "id": "fdG8q1yh_Tf5"
      }
    },
    {
      "cell_type": "code",
      "source": [
        "x = numpy.var(speed)\n",
        "x"
      ],
      "metadata": {
        "colab": {
          "base_uri": "https://localhost:8080/"
        },
        "id": "bwv3EQdJ-8ba",
        "outputId": "55e994ba-e49d-42aa-f031-5237954d1748"
      },
      "execution_count": null,
      "outputs": [
        {
          "output_type": "execute_result",
          "data": {
            "text/plain": [
              "1432.2448979591834"
            ]
          },
          "metadata": {},
          "execution_count": 11
        }
      ]
    },
    {
      "cell_type": "code",
      "source": [
        "x = numpy.std(speed)\n",
        "x"
      ],
      "metadata": {
        "colab": {
          "base_uri": "https://localhost:8080/"
        },
        "id": "8HJrPWPD_lLz",
        "outputId": "4af1a3f4-6902-4849-f53c-db6d3c6e71d2"
      },
      "execution_count": null,
      "outputs": [
        {
          "output_type": "execute_result",
          "data": {
            "text/plain": [
              "37.84501153334721"
            ]
          },
          "metadata": {},
          "execution_count": 12
        }
      ]
    },
    {
      "cell_type": "markdown",
      "source": [
        "## Percentile"
      ],
      "metadata": {
        "id": "RuQ-gBorAKjN"
      }
    },
    {
      "cell_type": "code",
      "source": [
        "ages = [5,31,43,48,50,41,7,11,15,39,80,82,32,2,8,6,25,36,27,61,31]\n",
        "\n",
        "x = numpy.percentile(ages, 75)\n",
        "\n",
        "print(x)"
      ],
      "metadata": {
        "colab": {
          "base_uri": "https://localhost:8080/"
        },
        "id": "8PuKejG3AKKN",
        "outputId": "c67ed23d-3bda-4d3b-c7ca-4379b05f6149"
      },
      "execution_count": null,
      "outputs": [
        {
          "output_type": "stream",
          "name": "stdout",
          "text": [
            "43.0\n"
          ]
        }
      ]
    },
    {
      "cell_type": "code",
      "source": [
        "# what is the age that 90% of the people are younger than?\n",
        "ages = [5,31,43,48,50,41,7,11,15,39,80,82,32,2,8,6,25,36,27,61,31]\n",
        "\n",
        "x = numpy.percentile(ages, 90)\n",
        "\n",
        "print(x)"
      ],
      "metadata": {
        "colab": {
          "base_uri": "https://localhost:8080/"
        },
        "id": "JASu2J09AZgT",
        "outputId": "44e25b36-34ba-461a-c9eb-1d22da34d120"
      },
      "execution_count": null,
      "outputs": [
        {
          "output_type": "stream",
          "name": "stdout",
          "text": [
            "61.0\n"
          ]
        }
      ]
    },
    {
      "cell_type": "markdown",
      "source": [
        "## Data Distribution - matplotlib"
      ],
      "metadata": {
        "id": "tsVQMEOiAy9m"
      }
    },
    {
      "cell_type": "code",
      "source": [
        "x = numpy.random.uniform(0.0, 5.0, 250)\n",
        "x"
      ],
      "metadata": {
        "colab": {
          "base_uri": "https://localhost:8080/"
        },
        "id": "7GEX9gU9A1QJ",
        "outputId": "ca2e9300-3890-49a9-f522-97cda579422b"
      },
      "execution_count": null,
      "outputs": [
        {
          "output_type": "execute_result",
          "data": {
            "text/plain": [
              "array([4.75148318e+00, 1.28711711e+00, 1.31995752e+00, 4.48929673e+00,\n",
              "       4.99668612e+00, 3.99326611e+00, 3.93445246e+00, 3.19054785e+00,\n",
              "       3.45772473e+00, 2.34381450e+00, 2.89110995e+00, 4.01514748e+00,\n",
              "       3.33587970e+00, 3.31037557e+00, 3.02706334e+00, 1.64145437e+00,\n",
              "       4.73838101e+00, 8.87701576e-01, 7.34632492e-01, 9.36785261e-01,\n",
              "       1.65864728e+00, 3.30484514e+00, 2.11149084e+00, 4.18060018e+00,\n",
              "       1.93781592e-01, 1.65816280e+00, 2.13021779e+00, 4.75117023e+00,\n",
              "       2.28547515e+00, 3.51433420e+00, 2.14282418e+00, 2.29613770e+00,\n",
              "       3.88391514e-01, 4.15842536e+00, 2.88666243e+00, 2.65163367e+00,\n",
              "       3.11216773e+00, 1.96100642e+00, 6.89189354e-02, 2.33541269e+00,\n",
              "       4.50874037e+00, 4.69389639e+00, 4.33844372e+00, 1.23566440e+00,\n",
              "       2.86543134e-01, 4.02984242e+00, 4.76790633e+00, 1.58670735e+00,\n",
              "       3.05351076e+00, 3.16648912e-02, 2.75487785e+00, 3.16480697e+00,\n",
              "       1.24759529e+00, 4.90001756e+00, 2.94749978e+00, 2.33019898e+00,\n",
              "       1.95752285e+00, 2.24308855e-01, 4.79072873e+00, 1.91267478e-01,\n",
              "       4.49582988e+00, 3.10046056e-01, 1.05847834e+00, 3.51691250e+00,\n",
              "       9.66566256e-01, 4.45628698e+00, 2.96602318e+00, 2.25185046e+00,\n",
              "       1.36681925e+00, 4.81193690e+00, 1.04371047e+00, 3.87377999e+00,\n",
              "       1.24598997e+00, 4.22832448e+00, 3.89042555e+00, 3.34940906e+00,\n",
              "       7.78387869e-01, 1.62098776e+00, 1.71162388e+00, 4.87867539e+00,\n",
              "       1.85585285e+00, 4.57119288e+00, 4.40403077e+00, 4.94675059e+00,\n",
              "       3.39361929e+00, 4.54672146e-01, 4.61415078e+00, 1.48710396e-01,\n",
              "       1.07743354e+00, 3.62169379e+00, 4.43717410e+00, 2.50032205e+00,\n",
              "       1.94433066e+00, 3.10321716e+00, 1.87344070e+00, 1.64754813e+00,\n",
              "       3.56522090e+00, 3.71918075e+00, 2.79358128e+00, 2.29684915e+00,\n",
              "       4.06841617e+00, 2.49725456e+00, 2.25377117e+00, 3.65352074e+00,\n",
              "       3.16950551e+00, 1.10803363e+00, 4.29946749e+00, 2.78422512e+00,\n",
              "       3.15955504e+00, 2.47875064e+00, 5.21613000e-01, 4.02987712e+00,\n",
              "       2.44129883e+00, 4.46889538e+00, 4.54360881e+00, 8.83476383e-02,\n",
              "       1.03874488e+00, 4.71140123e+00, 1.04210371e+00, 2.92977544e+00,\n",
              "       1.56218605e+00, 3.48028904e+00, 1.84801334e+00, 2.43846842e+00,\n",
              "       4.42497484e-01, 2.79304767e+00, 4.90002988e+00, 7.59253536e-01,\n",
              "       3.50528081e+00, 1.68922750e+00, 1.91185581e+00, 1.39190042e+00,\n",
              "       2.72144058e+00, 2.45019745e+00, 4.28537342e+00, 3.31340030e+00,\n",
              "       4.22082950e+00, 4.73456501e-01, 5.49468106e-01, 2.39782860e+00,\n",
              "       4.66487771e+00, 4.33974460e+00, 2.71565409e+00, 1.34466094e+00,\n",
              "       3.66117685e+00, 2.27022082e+00, 4.65998251e+00, 7.12092049e-01,\n",
              "       4.59004613e+00, 2.26784245e-01, 3.95021432e+00, 2.85835829e+00,\n",
              "       4.80908973e+00, 2.00196450e+00, 2.51620729e+00, 1.22285667e+00,\n",
              "       3.10239633e+00, 1.86034151e+00, 1.02954332e+00, 2.59655264e+00,\n",
              "       3.07445319e+00, 3.59844954e+00, 7.40527649e-01, 4.96383076e+00,\n",
              "       1.73965112e+00, 8.72507229e-01, 3.44439075e+00, 1.41792891e+00,\n",
              "       3.47386543e+00, 3.39430175e+00, 2.16147011e-01, 2.12105656e+00,\n",
              "       1.62114965e+00, 1.19234900e+00, 4.24721776e+00, 4.57725344e+00,\n",
              "       3.15321671e+00, 1.85181353e+00, 2.12792492e+00, 4.32527102e+00,\n",
              "       2.14823489e+00, 1.05232174e+00, 3.19065360e+00, 1.44383768e+00,\n",
              "       2.51422770e+00, 2.30483761e+00, 1.95025951e+00, 1.21721575e+00,\n",
              "       3.62912192e+00, 3.87082958e+00, 2.09697122e+00, 4.87355262e-01,\n",
              "       9.13732322e-01, 3.82704142e+00, 3.55209740e-01, 4.56533893e+00,\n",
              "       1.60178838e+00, 1.06555656e+00, 4.88678685e+00, 3.79270492e+00,\n",
              "       4.08208814e+00, 8.99145754e-01, 7.81659269e-01, 5.64517779e-01,\n",
              "       4.57478368e+00, 3.03756919e+00, 9.64615061e-01, 4.62724425e-01,\n",
              "       1.37020789e+00, 3.37133381e+00, 3.92471896e+00, 2.67009444e+00,\n",
              "       4.38100221e+00, 2.66564916e+00, 1.55016839e+00, 1.61139042e+00,\n",
              "       2.45138231e+00, 4.90285300e+00, 2.94807510e+00, 7.31851742e-01,\n",
              "       5.08278488e-01, 3.88008821e+00, 1.88091873e+00, 5.63015410e-02,\n",
              "       2.35696227e+00, 4.16485154e+00, 1.89204343e+00, 1.02057440e+00,\n",
              "       4.70036126e-01, 2.99338369e+00, 3.36460919e+00, 1.79538389e+00,\n",
              "       4.90902123e+00, 2.20763653e+00, 1.81551111e+00, 3.32036809e-03,\n",
              "       6.84146523e-01, 7.36015664e-01, 4.38305035e+00, 1.35656145e+00,\n",
              "       7.19792265e-01, 3.70221855e+00, 7.83399627e-01, 4.00948418e+00,\n",
              "       3.16837055e+00, 2.63391961e+00, 1.66898150e+00, 3.71958510e+00,\n",
              "       3.09318412e+00, 4.05033640e+00])"
            ]
          },
          "metadata": {},
          "execution_count": 17
        }
      ]
    },
    {
      "cell_type": "code",
      "source": [
        "import matplotlib.pyplot as plt\n",
        "x = numpy.random.uniform(0.0, 5.0, 250)\n",
        "plt.hist(x, 5)\n",
        "plt.show()"
      ],
      "metadata": {
        "colab": {
          "base_uri": "https://localhost:8080/",
          "height": 265
        },
        "id": "NsRxlTE1BOb_",
        "outputId": "e6a0e4e4-70af-4295-f069-97b1d9299456"
      },
      "execution_count": null,
      "outputs": [
        {
          "output_type": "display_data",
          "data": {
            "text/plain": [
              "<Figure size 432x288 with 1 Axes>"
            ],
            "image/png": "[encoded data removed]"
          },
          "metadata": {
            "needs_background": "light"
          }
        }
      ]
    },
    {
      "cell_type": "markdown",
      "source": [
        "We use the array from the example above to draw a histogram with 5 bars.\n",
        "\n",
        "The first bar represents how many values in the array are between 0 and 1.\n",
        "\n",
        "The second bar represents how many values are between 1 and 2.\n",
        "\n",
        "Etc.\n",
        "\n",
        "Which gives us this result:\n",
        "\n",
        "52 values are between 0 and 1\n",
        "48 values are between 1 and 2\n",
        "49 values are between 2 and 3\n",
        "51 values are between 3 and 4\n",
        "50 values are between 4 and 5"
      ],
      "metadata": {
        "id": "eud7aCgJBsQ2"
      }
    },
    {
      "cell_type": "code",
      "source": [
        "x = numpy.random.uniform(0.0, 5.0, 100000)\n",
        "plt.hist(x, 100)\n",
        "plt.show()"
      ],
      "metadata": {
        "colab": {
          "base_uri": "https://localhost:8080/",
          "height": 265
        },
        "id": "PPlRdRdTBtFi",
        "outputId": "ab9f7c33-5eca-46be-c737-794e01b5eff9"
      },
      "execution_count": null,
      "outputs": [
        {
          "output_type": "display_data",
          "data": {
            "text/plain": [
              "<Figure size 432x288 with 1 Axes>"
            ],
            "image/png": "[encoded data removed]"
          },
          "metadata": {
            "needs_background": "light"
          }
        }
      ]
    },
    {
      "cell_type": "code",
      "source": [
        "#Normal Distribution\n",
        "x = numpy.random.normal(5.0, 1.0, 100000)\n",
        "plt.hist(x,100)\n",
        "plt.show()"
      ],
      "metadata": {
        "colab": {
          "base_uri": "https://localhost:8080/",
          "height": 265
        },
        "id": "z_jiDEvdCaRP",
        "outputId": "91727cbd-aa15-47d0-affd-2f5d1c08f005"
      },
      "execution_count": null,
      "outputs": [
        {
          "output_type": "display_data",
          "data": {
            "text/plain": [
              "<Figure size 432x288 with 1 Axes>"
            ],
            "image/png": "[encoded data removed]"
          },
          "metadata": {
            "needs_background": "light"
          }
        }
      ]
    },
    {
      "cell_type": "markdown",
      "source": [
        "Note: A normal distribution graph is also known as the bell curve because of it's characteristic shape of a bell.\n",
        "\n",
        "Histogram Explained\n",
        "We use the array from the numpy.random.normal() method, with 100000 values,  to draw a histogram with 100 bars.\n",
        "\n",
        "We specify that the mean value is 5.0, and the standard deviation is 1.0.\n",
        "\n",
        "Meaning that the values should be concentrated around 5.0, and rarely further away than 1.0 from the mean.\n",
        "\n",
        "And as you can see from the histogram, most values are between 4.0 and 6.0, with a top at approximately 5.0."
      ],
      "metadata": {
        "id": "PaIAkyghC00Y"
      }
    },
    {
      "cell_type": "markdown",
      "source": [
        "## Scatter"
      ],
      "metadata": {
        "id": "Z4WA0_Cu7bZp"
      }
    },
    {
      "cell_type": "code",
      "source": [
        "x = [5,7,8,7,2,17,2,9,4,11,12,9,6]\n",
        "y = [99,86,87,88,111,86,103,87,94,78,77,85,86]\n",
        "\n",
        "plt.scatter(x, y)\n",
        "plt.show()"
      ],
      "metadata": {
        "colab": {
          "base_uri": "https://localhost:8080/",
          "height": 265
        },
        "id": "BWw9y_KkC4FE",
        "outputId": "c15a897e-b245-4b66-b348-80a9956c8f24"
      },
      "execution_count": null,
      "outputs": [
        {
          "output_type": "display_data",
          "data": {
            "text/plain": [
              "<Figure size 432x288 with 1 Axes>"
            ],
            "image/png": "[encoded data removed]"
          },
          "metadata": {
            "needs_background": "light"
          }
        }
      ]
    },
    {
      "cell_type": "markdown",
      "source": [
        "Scatter Plot Explained\n",
        "The x-axis represents ages, and the y-axis represents speeds.\n",
        "\n",
        "What we can read from the diagram is that the two fastest cars were both 2 years old, and the slowest car was 12 years old.\n",
        "\n",
        "Note: It seems that the newer the car, the faster it drives, but that could be a coincidence, after all we only registered 13 cars."
      ],
      "metadata": {
        "id": "kGDk-cxw8pfI"
      }
    },
    {
      "cell_type": "code",
      "source": [
        "#random data distribution\n",
        "x = numpy.random.normal(5.0, 1.0, 1000)\n",
        "y = numpy.random.normal(10.0, 2.0, 1000)\n",
        "\n",
        "plt.scatter(x, y)\n",
        "plt.show()"
      ],
      "metadata": {
        "colab": {
          "base_uri": "https://localhost:8080/",
          "height": 265
        },
        "id": "tTsEmU4F8qNR",
        "outputId": "a53a0490-476d-4a4b-93c0-4c9bab07c115"
      },
      "execution_count": null,
      "outputs": [
        {
          "output_type": "display_data",
          "data": {
            "text/plain": [
              "<Figure size 432x288 with 1 Axes>"
            ],
            "image/png": "[encoded data removed]"
          },
          "metadata": {
            "needs_background": "light"
          }
        }
      ]
    },
    {
      "cell_type": "markdown",
      "source": [
        "We can see that the dots are concentrated around the value 5 on the x-axis, and 10 on the y-axis.\n",
        "\n",
        "We can also see that the spread is wider on the y-axis than on the x-axis."
      ],
      "metadata": {
        "id": "Y7NMhV879cGh"
      }
    },
    {
      "cell_type": "markdown",
      "source": [
        "## Linear Regression - scipy"
      ],
      "metadata": {
        "id": "j1aPKWtsoe_a"
      }
    },
    {
      "cell_type": "code",
      "source": [
        "#regression\n",
        "x = [5,7,8,7,2,17,2,9,4,11,12,9,6]\n",
        "y = [99,86,87,88,111,86,103,87,94,78,77,85,86]\n",
        "plt.scatter(x,y)\n",
        "plt.show()"
      ],
      "metadata": {
        "colab": {
          "base_uri": "https://localhost:8080/",
          "height": 265
        },
        "id": "DsNGU-Xe9jW3",
        "outputId": "7be94a8d-8e5d-451f-be2c-bfa88c080998"
      },
      "execution_count": null,
      "outputs": [
        {
          "output_type": "display_data",
          "data": {
            "text/plain": [
              "<Figure size 432x288 with 1 Axes>"
            ],
            "image/png": "[encoded data removed]"
          },
          "metadata": {
            "needs_background": "light"
          }
        }
      ]
    },
    {
      "cell_type": "code",
      "source": [
        "#import scipy and draw the line of Linear Regression:\n",
        "\n",
        "from scipy import stats\n",
        "\n",
        "x = [5,7,8,7,2,17,2,9,4,11,12,9,6]\n",
        "y = [99,86,87,88,111,86,103,87,94,78,77,85,86]\n",
        "\n",
        "slope, intercept, r, p, std_err = stats.linregress(x, y)\n",
        "\n",
        "def myfunc(x):\n",
        "  return slope * x + intercept\n",
        "\n",
        "mymodel = list(map(myfunc, x))\n",
        "\n",
        "plt.scatter(x, y)\n",
        "plt.plot(x, mymodel)\n",
        "plt.show()"
      ],
      "metadata": {
        "colab": {
          "base_uri": "https://localhost:8080/",
          "height": 265
        },
        "id": "22fJIoT_pWaw",
        "outputId": "82d48ce9-7c4a-4ffc-ae09-de6a1f2d05bc"
      },
      "execution_count": null,
      "outputs": [
        {
          "output_type": "display_data",
          "data": {
            "text/plain": [
              "<Figure size 432x288 with 1 Axes>"
            ],
            "image/png": "[encoded data removed]"
          },
          "metadata": {
            "needs_background": "light"
          }
        }
      ]
    },
    {
      "cell_type": "markdown",
      "source": [
        "R for Relationship,\n",
        "\n",
        " if there are no relationship the linear regression can not be used to predict anything."
      ],
      "metadata": {
        "id": "TVhwAOk-rFUt"
      }
    },
    {
      "cell_type": "code",
      "source": [
        "# the r value ranges from -1 to 1, where 0 means no relationship, and 1(and-1) means 100% related\n",
        "\n",
        "x = [5,7,8,7,2,17,2,9,4,11,12,9,6]\n",
        "y = [99,86,87,88,111,86,103,87,94,78,77,85,86]\n",
        "slope, intercept, r, p, std_err = stats.linregress(x, y)\n",
        "r\n"
      ],
      "metadata": {
        "colab": {
          "base_uri": "https://localhost:8080/"
        },
        "id": "OvVzFyzDrH-5",
        "outputId": "c842fc3b-c249-4ddd-da44-b54f42b9e177"
      },
      "execution_count": null,
      "outputs": [
        {
          "output_type": "execute_result",
          "data": {
            "text/plain": [
              "-0.758591524376155"
            ]
          },
          "metadata": {},
          "execution_count": 8
        }
      ]
    },
    {
      "cell_type": "markdown",
      "source": [
        "Note: The result -0.76 shows that there is a relationship, not perfect, but it indicates that we could use linear regression in future predictions."
      ],
      "metadata": {
        "id": "bjJ22O2RsdGJ"
      }
    },
    {
      "cell_type": "markdown",
      "source": [
        "PREDICT FUTURE VALUE"
      ],
      "metadata": {
        "id": "UdAXfFP4sufs"
      }
    },
    {
      "cell_type": "code",
      "source": [
        "x = [5,7,8,7,2,17,2,9,4,11,12,9,6]\n",
        "y = [99,86,87,88,111,86,103,87,94,78,77,85,86]\n",
        "\n",
        "slope, intercept, r, p, std_err = stats.linregress(x, y)\n",
        "\n",
        "def myfunc(x):\n",
        "  return slope * x + intercept\n",
        "\n",
        "speed = myfunc(10)\n",
        "speed"
      ],
      "metadata": {
        "colab": {
          "base_uri": "https://localhost:8080/"
        },
        "id": "iUXoW7L6seBY",
        "outputId": "eace0498-3e84-46e0-d216-b9f512e3fcd0"
      },
      "execution_count": null,
      "outputs": [
        {
          "output_type": "execute_result",
          "data": {
            "text/plain": [
              "85.59308314937454"
            ]
          },
          "metadata": {},
          "execution_count": 9
        }
      ]
    },
    {
      "cell_type": "markdown",
      "source": [
        "BAD FIT,\n",
        "\n",
        "Let us create an example where linear regression would not be the best method to predict future values"
      ],
      "metadata": {
        "id": "qMb2JHhAtb-r"
      }
    },
    {
      "cell_type": "code",
      "source": [
        "x = [89,43,36,36,95,10,66,34,38,20,26,29,48,64,6,5,36,66,72,40]\n",
        "y = [21,46,3,35,67,95,53,72,58,10,26,34,90,33,38,20,56,2,47,15]\n",
        "\n",
        "slope, intercept, r, p, std_err = stats.linregress(x, y)\n",
        "\n",
        "def myfunc(x):\n",
        "  return slope * x + intercept\n",
        "\n",
        "mymodel = list(map(myfunc, x))\n",
        "plt.scatter(x, y)\n",
        "plt.plot(x, mymodel)\n",
        "plt.show()"
      ],
      "metadata": {
        "colab": {
          "base_uri": "https://localhost:8080/",
          "height": 265
        },
        "id": "TzIc6zeLtfEO",
        "outputId": "46fa7122-2efb-4b6c-f6a3-bfef5b1e995a"
      },
      "execution_count": null,
      "outputs": [
        {
          "output_type": "display_data",
          "data": {
            "text/plain": [
              "<Figure size 432x288 with 1 Axes>"
            ],
            "image/png": "[encoded data removed]"
          },
          "metadata": {
            "needs_background": "light"
          }
        }
      ]
    },
    {
      "cell_type": "code",
      "source": [
        "# How much r for relationship \n",
        "x = [89,43,36,36,95,10,66,34,38,20,26,29,48,64,6,5,36,66,72,40]\n",
        "y = [21,46,3,35,67,95,53,72,58,10,26,34,90,33,38,20,56,2,47,15]\n",
        "\n",
        "slope, intercept, r, p, std_err = stats.linregress(x,y)\n",
        "r"
      ],
      "metadata": {
        "colab": {
          "base_uri": "https://localhost:8080/"
        },
        "id": "d88odrweuPte",
        "outputId": "d6fd287e-3c1e-45c7-ea92-8514b0476c34"
      },
      "execution_count": null,
      "outputs": [
        {
          "output_type": "execute_result",
          "data": {
            "text/plain": [
              "0.01331814154297491"
            ]
          },
          "metadata": {},
          "execution_count": 14
        }
      ]
    },
    {
      "cell_type": "markdown",
      "source": [
        "The result: 0.013 indicates a very bad relationship, and tells us that this data set is not suitable for linear regression."
      ],
      "metadata": {
        "id": "gYxP8n7ru4W5"
      }
    },
    {
      "cell_type": "markdown",
      "source": [
        "## Polynomial Regression - sklearn"
      ],
      "metadata": {
        "id": "FmFw1ly1vUNd"
      }
    },
    {
      "cell_type": "code",
      "source": [
        "x = [1,2,3,5,6,7,8,9,10,12,13,14,15,16,18,19,21,22]\n",
        "y = [100,90,80,60,60,55,60,65,70,70,75,76,78,79,90,99,99,100]\n",
        "plt.scatter(x,y)\n",
        "plt.show()"
      ],
      "metadata": {
        "colab": {
          "base_uri": "https://localhost:8080/",
          "height": 265
        },
        "id": "LqwP-uAGu5Fh",
        "outputId": "99e1ac38-be41-4f1f-ec9f-6bd270ad2dcb"
      },
      "execution_count": null,
      "outputs": [
        {
          "output_type": "display_data",
          "data": {
            "text/plain": [
              "<Figure size 432x288 with 1 Axes>"
            ],
            "image/png": "[encoded data removed]"
          },
          "metadata": {
            "needs_background": "light"
          }
        }
      ]
    },
    {
      "cell_type": "code",
      "source": [
        "#draw the line of Polynomial Regression\n",
        "x = [1,2,3,5,6,7,8,9,10,12,13,14,15,16,18,19,21,22]\n",
        "y = [100,90,80,60,60,55,60,65,70,70,75,76,78,79,90,99,99,100]\n",
        "\n",
        "mymodel = numpy.poly1d(numpy.polyfit(x, y, 3))\n",
        "myline = numpy.linspace(1, 22, 100)\n",
        "plt.scatter(x, y)\n",
        "plt.plot(myline, mymodel(myline))\n",
        "plt.show()"
      ],
      "metadata": {
        "colab": {
          "base_uri": "https://localhost:8080/",
          "height": 265
        },
        "id": "y9nNrKFJycFJ",
        "outputId": "38dafb34-f438-452f-b63c-35f34fca0ff0"
      },
      "execution_count": null,
      "outputs": [
        {
          "output_type": "display_data",
          "data": {
            "text/plain": [
              "<Figure size 432x288 with 1 Axes>"
            ],
            "image/png": "[encoded data removed]"
          },
          "metadata": {
            "needs_background": "light"
          }
        }
      ]
    },
    {
      "cell_type": "markdown",
      "source": [
        "R-Squared, \n",
        "\n",
        " python and the sklearn module will compute this value"
      ],
      "metadata": {
        "id": "IZjybstDz0XV"
      }
    },
    {
      "cell_type": "code",
      "source": [
        "from sklearn.metrics import r2_score\n",
        "\n",
        "x = [1,2,3,5,6,7,8,9,10,12,13,14,15,16,18,19,21,22]\n",
        "y = [100,90,80,60,60,55,60,65,70,70,75,76,78,79,90,99,99,100]\n",
        "\n",
        "mymodel = numpy.poly1d(numpy.polyfit(x, y, 3))\n",
        "print(r2_score(y, mymodel(x)))"
      ],
      "metadata": {
        "colab": {
          "base_uri": "https://localhost:8080/"
        },
        "id": "3SKT9jz-0Aum",
        "outputId": "df387bf0-d3a2-45e5-d3ea-db23ed4aec3d"
      },
      "execution_count": null,
      "outputs": [
        {
          "output_type": "stream",
          "name": "stdout",
          "text": [
            "0.9432150416451025\n"
          ]
        }
      ]
    },
    {
      "cell_type": "markdown",
      "source": [
        "Note: The result 0.94 shows that there is a very good relationship, and we can use polynomial regression in future predictions."
      ],
      "metadata": {
        "id": "pU_U4DH80dDU"
      }
    },
    {
      "cell_type": "code",
      "source": [
        "#predict the speed of a car passing at 17 P.M\n",
        "\n",
        "x = [1,2,3,5,6,7,8,9,10,12,13,14,15,16,18,19,21,22]\n",
        "y = [100,90,80,60,60,55,60,65,70,70,75,76,78,79,90,99,99,100]\n",
        "\n",
        "mymodel = numpy.poly1d(numpy.polyfit(x, y, 3))\n",
        "speed = mymodel(17)\n",
        "speed"
      ],
      "metadata": {
        "colab": {
          "base_uri": "https://localhost:8080/"
        },
        "id": "V4QRh3mH0dq4",
        "outputId": "19bd19c2-7d44-4f7c-e4b8-128f7e6bf3a5"
      },
      "execution_count": null,
      "outputs": [
        {
          "output_type": "execute_result",
          "data": {
            "text/plain": [
              "88.87331269697991"
            ]
          },
          "metadata": {},
          "execution_count": 18
        }
      ]
    },
    {
      "cell_type": "markdown",
      "source": [
        "BAD FIT"
      ],
      "metadata": {
        "id": "6isHEPcP1hRc"
      }
    },
    {
      "cell_type": "code",
      "source": [
        "x = [89,43,36,36,95,10,66,34,38,20,26,29,48,64,6,5,36,66,72,40]\n",
        "y = [21,46,3,35,67,95,53,72,58,10,26,34,90,33,38,20,56,2,47,15]\n",
        "\n",
        "mymodel = numpy.poly1d(numpy.polyfit(x, y, 3))\n",
        "myline = numpy.linspace(2, 95, 100)\n",
        "plt.scatter(x, y)\n",
        "plt.plot(myline, mymodel(myline))\n",
        "plt.show()"
      ],
      "metadata": {
        "colab": {
          "base_uri": "https://localhost:8080/",
          "height": 265
        },
        "id": "38x22Uhl1iyc",
        "outputId": "d900f16d-cb5c-4abb-a54c-9d2f7661e8ef"
      },
      "execution_count": null,
      "outputs": [
        {
          "output_type": "display_data",
          "data": {
            "text/plain": [
              "<Figure size 432x288 with 1 Axes>"
            ],
            "image/png": "[encoded data removed]"
          },
          "metadata": {
            "needs_background": "light"
          }
        }
      ]
    },
    {
      "cell_type": "code",
      "source": [
        "# r-squared value\n",
        "\n",
        "mymodel = numpy.poly1d(numpy.polyfit(x, y, 3))\n",
        "print(r2_score(y, mymodel(x)))"
      ],
      "metadata": {
        "colab": {
          "base_uri": "https://localhost:8080/"
        },
        "id": "PLMFFB9F198A",
        "outputId": "548af4f5-c03f-4fc9-fd13-3a4538faf82a"
      },
      "execution_count": null,
      "outputs": [
        {
          "output_type": "stream",
          "name": "stdout",
          "text": [
            "0.009952707566680652\n"
          ]
        }
      ]
    },
    {
      "cell_type": "markdown",
      "source": [
        "The result: 0.00995 indicates a very bad relationship, and tells us that this data set is not suitable for polynomial regression."
      ],
      "metadata": {
        "id": "Sgt9yCho2Pc_"
      }
    },
    {
      "cell_type": "markdown",
      "source": [
        "## Multiple Regression - pandas"
      ],
      "metadata": {
        "id": "3bz35I_W3uHs"
      }
    },
    {
      "cell_type": "markdown",
      "source": [
        "![image.png](data:image/png;base64,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)"
      ],
      "metadata": {
        "id": "Jcnvo06N339C"
      }
    },
    {
      "cell_type": "code",
      "source": [
        "# pakai pandas dan sklearn >> linear modelnya\n",
        "import pandas\n",
        "from sklearn import linear_model\n",
        "\n",
        "df = pandas.read_csv('/content/drive/MyDrive/EVERYDAY MUST CODING/cars-in multiple reg.csv')"
      ],
      "metadata": {
        "id": "NZGOYhPN2QLT"
      },
      "execution_count": null,
      "outputs": []
    },
    {
      "cell_type": "code",
      "source": [
        "x = df[['Weight', 'Volume']]\n",
        "y = df['CO2']\n",
        "regr = linear_model.LinearRegression()\n",
        "regr.fit(x, y)"
      ],
      "metadata": {
        "colab": {
          "base_uri": "https://localhost:8080/"
        },
        "id": "ULOmKvZU5yKW",
        "outputId": "4a76a8ac-e991-4f3c-e34c-718e8cd43427"
      },
      "execution_count": null,
      "outputs": [
        {
          "output_type": "execute_result",
          "data": {
            "text/plain": [
              "LinearRegression()"
            ]
          },
          "metadata": {},
          "execution_count": 24
        }
      ]
    },
    {
      "cell_type": "code",
      "source": [
        "# predict the CO2 emission of a car where the weight in 2300kg and \n",
        "# the volume is 1300cm3\n",
        "\n",
        "predictedCO2 = regr.predict([[2300, 1300]])\n",
        "predictedCO2"
      ],
      "metadata": {
        "colab": {
          "base_uri": "https://localhost:8080/"
        },
        "id": "REfpMgj16DNP",
        "outputId": "5f9980ad-1088-4773-ffb0-6a00a39e1631"
      },
      "execution_count": null,
      "outputs": [
        {
          "output_type": "stream",
          "name": "stderr",
          "text": [
            "/usr/local/lib/python3.7/dist-packages/sklearn/base.py:451: UserWarning: X does not have valid feature names, but LinearRegression was fitted with feature names\n",
            "  \"X does not have valid feature names, but\"\n"
          ]
        },
        {
          "output_type": "execute_result",
          "data": {
            "text/plain": [
              "array([107.2087328])"
            ]
          },
          "metadata": {},
          "execution_count": 25
        }
      ]
    },
    {
      "cell_type": "markdown",
      "source": [
        "We have predicted that a car with 1.3 liter engine, and a weight of 2300 kg, will release approximately 107 grams of CO2 for every kilometer it drives."
      ],
      "metadata": {
        "id": "bavlk45a6h-3"
      }
    },
    {
      "cell_type": "markdown",
      "source": [
        "COEFFICIENT\n",
        "\n",
        "![image.png](data:image/png;base64,iVBORw0KGgoAAAANSUhEUgAAAZcAAABwCAIAAABdMqrUAAAAAXNSR0IArs4c6QAAAHhlWElmTU0AKgAAAAgABAEaAAUAAAABAAAAPgEbAAUAAAABAAAARgEoAAMAAAABAAIAAIdpAAQAAAABAAAATgAAAAAAAABgAAAAAQAAAGAAAAABAAOgAQADAAAAAQABAACgAgAEAAAAAQAAAZegAwAEAAAAAQAAAHAAAAAABPnfDQAAAAlwSFlzAAAOxAAADsQBlSsOGwAAOXdJREFUeAHt3QnYtkP1APA++75nKWu0KpQWFUmUkrKUpZQ9oWhDJWQrEi32SpIskRCiTbtQQgtSiOx9FJHtk/4/na5p/vcyz/0+7+J7P/dzvdd7zXLmzMyZmTPnnJk595R///vfT+l/PQV6CvQUmLQUmGnStrxveE+BngI9BR6nQM/F+nnQU6CnwOSmwCzl5t91111tAPPPP/+XvvSl+++/f4899miDeaLS//jHP5544om33nrr2972tte97nX33nvv6aefftFFFz372c9+97vfPXXq1KWXXnrOOedsa95f/vKXadOmLb/88m0AY5I+3rU89thjP/jBD84888wpU6bsu+++iy222Jg0ewyRHH300RMzfw477LA55pjjPe95zxg2vhFVPqYT1rtoyS9+8Yuvf/3r++yzzyKLLNLYthk5kV2s7XfnnXcWev6Nb3xjnXXWWWmlldqKP1Hpxx13nGYvtNBCL37xiw8++OA77rhjrrnmmmWWWVZdddW11lrroIMOkvvDH/6w0LwXvvCFpkIBYGDWww8//MY3vhEnLUCOvpYCclnrrruunj7rWc/Cu6+++uoycD33wgsv1IWbbrqpnjVcyn777WcLycsON3+60DavRRipDX0lcTyi+ZgO17uOraoT4Qtf+ILh/sMf/tARw4wEVpLFSFtf/vKXkcbPbN5///0333zz1772tZHykpe8JAgX0enn/7HHHvuKV7zipz/96cwzz6xVhxxyiCH/05/+tNxyy4n++te/nn322a3tQoN32223++67rwAwMOtf//rXt7/9bXO6ADn6WgrIb7jhhu9973uHHnrohz70oQJYIeuWW27RhXvuuYfcWgDrnvWrX/2KjNwdvg2yC23byo53+riOad746ZkIeTsnKNyRJV9xxRUa9LnPfS6Hj93mq1/9Ko62wAILkH0uvvjiBEAps/2uvPLKsqxnYCmrEnj00Uc/+clPQvLUpz4V/Mc+9jGKBph//vOfu+66K45DMnrNa15zySWXpIJtyN/0pjdp55JLLrn66qu/6lWvokosvPDC2Jao349//OPzzjtP4MYbbwxUt91225ZbbqmKJZZYwnZNJpduLr7zne9MdVnP2Pcyyyyz6KKLvv71r//9738fWR/4wAe23nrrxu5rrWYstdRS/6l2dZpdwpYCeS2YjiqWXXZZFCAzHnjggQksDxAzUXLxxRfXqRVXXPFTn/oUtTEHiLDBes5znqMBJGUN2HvvvaVvscUWz3zmM4moyq655ppErVSwTn+yKmAYDEd0AcHBk+nWW289yqktYZtttvnb3/4WSL71rW8Bu/766/FNAOpKyCPwiU98wjSg1gW2j370o9LL86etwV1o+9BDDxmdZzzjGXbiV77ylQsuuGAui33nO98xN9CB0WCXXXaJyaY9baNQp48i9jl9OeGEE84//3xNffWrX41H52Oqd89//vMPP/zwF73oRdGAa665JpGlbVJpufEyuEaKEI3IN998cyqVAnUihEhxxhlnrL/++iaqAfr0pz+d4AXaep3DTNLwUzq2u42LmehEnrXXXnvTTTeltb385S9PCN/61reyyBjdPffcM5bEN7/5zZSbB97ylrfAQ8oz88w54RhvZWHAZWDARGaddVb7eRRsQ05nURxXMrH8vvKVrxAlLJ6I/vKXvwzp8qqrroKHyoxrMJBtt912CqrCtJOOVT3vec+Liv7617/ioXPPPbf59K53vWu++eYzvUgock3Ttu6rThYkUS+TXGDL/6daiIorrLACzNpAdLIZaFIOmcI77LADtrLTTjt9+MMfxvRVYZGk3BTQuyAjm6AGHHnkkbLwPjXC/973vtcsp2VbtFGkTn8j9bKXvQz+YEnveMc7bP5//vOf0QHFWEI11XDoYHC3WELQKqIiyy81JgIE5Kc97WnzzDNPEOSzn/2s9AIB5bY1uAttN954Yy3Bud7//vfTrE3RxMVsVCaVRf6Rj3zElJtpppnsH6orjEKdPubn3//+d1XolP8xK8yuNKapd7PNNpsGbLTRRtqgRw8++KCswqT64Ac/CCFOZC/fcMMNEfncc89VpPKrEyEpRs997nON19Of/nR4Egds63UF7SSNjpaLWeGXX355dJ5l0Zy4++67RX/2s58hIiU0ssx1WzERIKL5/x/96Ecgt9pqq5R4zjnnMMB/97vflZ6kkttvv90SesMb3gCsjNwcNXcTts0228yIpmjOxXbeeWdVkM4i1ww75ZRThPO5SBiEMNmVbLyKBF+wCNu6/8ADDwDba6+9Ur31QKqFklsBzgWlvKCNOkUfeeQRsh4uk1LygD0ZThbflJiXpW7LxeLlttGfjAnmN7/5TcKA1xvfRIrjjz8+IYklZO0lzphKpYBcu0uKChQIKLetwQNpSyHQsFyaJsAGFzMPEY2ImmRYm5PxZTxtG4U2+gQXs/OZqFh89CuNafSO0JoMVUy0WvW1r31NVmFSEQ/zPYAlxIlBIM//14kQQ/CZz3wmwH73u9+p7otf/KJoodc5zskbLtnFUGHgz16UrD9UIZPDbLDF/eQnP1HWpEfHQEJlazSLxIoiW6W6Qiu0AqVYOZFuH2NsZusR7Y484WwMwDPvvPMSWCKXyOZMswJJCVU1vhms044NwNwKsLbuV5CUoxQfW67dkhpoYZv6oS/US1GNiXWIYI5i9BS68glMjsFKw5h+/vOf258tWllRto3+edkI4w4Mjrb6iNrwd9xxR8NErY4U6iQZJ8Id/xcI2NbggZhjpPIZlYpgsrpPnnW8HokhS1533XWUuMZRaKMPeRyG7bffPs2fVEsKGEosKaL0FQHmCP8Lkwr897///QMOOED7zQdCesLWJWBXCzBaBTGQeEiBKPRaC7ugnc5hRsvF8u5RUkRNPv8Rzv+jjjoqByBM5dEI01ME2CkqWbYgm2QoKZFlxps6TBLdkVdwVqKsYzQvc7eSnkc1D+dyUyElYse4c4qmQN79lNglQEplv6NB4AvgqYoMXmSHelkaN9Mkg44NwxQPOtTB6ikYFjHhyiuvJA2Z34oTsgKsjf51JEaECpnS0Y0oyr6TUkYZyAlYaPDAWrAkMPUZJTE6i82F5BWoDCjBtm0UutOn3DACIIC4ulSYVBSaa6+91n8/yju1l+DGVlNG3piLnqQKWYVeNxacdInDUKdLJ81vYMwHzKtleEMFgJjGHpRDWqtEXEKHnTPS//GPfxBGjE135DnCehieRvEwh9QMKz/U2zy9SzjmUBdINmbWGUIWszqhbIMNNmA6IRvmZR1EYGEEVQCx4IlsaJLDtIVPPfVULIxxKuyGtP7QB8G30T9QGYKEEykS74tEFm526wQwMJBjKwMXGhwFC7RlfQND3sSYKrXoghR7RpLxc4DGUSjTJy9eDrNXAAjZpzCpmCPJa7QEUvNJJ53EjklUZyBrRF4gQg5f7nUOOUnDDTLFmPSEfA4PM1OOjW0rj0Y4NJScTRC4DHls+2GVAOmciLWIvE0O6o68Xl2eomriWFIPZeEUOYAwyYUS56JJSjd1CpeBA4wwz5rrtm0qVQiwsGAHVguTLbMdbUI0FxaiLJu9AJUhWBiO4Ay3gDbPYswS3WSTTSIx531t9I9bwaE3RSmQaJVIRMHUziie19UWxpQ7EgSGQoMH0tayh4EyFS0xXolQNiQiZGVaoj9ZrG0U2ujT1s229LCovuAFLwBQmFRmGkI5EDANMDLApn0d50Ai5EUKvc7BJm94vLgYyYLK48DFZQtWgJNPPpm61LilxA0DOhSTOVHfoZsxNpbSWeXZRF2vdcdCcYm77747WndHXh4Y4joAp6suChCCbMUs0JUiBHsslbnKFVYd0UgaXxJkKsApioUx03ow4LDPLxhQyq0ELr30UvOMgIBduqJlBzaPpVTA4nLAEUccwbzFME/lTAu1AlmPOiOT6PL6WWed5QA+TjADrI3+YdBxSZiEyLiJF7hGoAgrmNVlTTKfsyqGcFevsZ4CIQHT4rRjOXerA+QphQYPpK0BxYJd5kAlLV9ttdWSxO0wkXRjrOG/4IIL9MK1BrYnzzzaRqGNPnlr28J0cDf4DSsznKNhUyKOOwuTipXZoZOGKeVoC+YwqFWqGEiEHL7Q6xxsEodt6V1+9BGd/PznP58Ds+JT91KKW1FgXEuJFGIOzQi5gzouKMTFpQSfAhb5GmusEWBsYdan6S5XpckQY/OxoqylgcjViHsm5Gah62MpamarKB20Ya/MIlE1s507BCCdhBL3UhFTKpZ0gGkS+6vccvfRgfkpitCPErYUSLXQuxMk/sVarMYElgdIanGCDq3tWquo4TlACnt4BCadUTJWYjqQSyTKBeuxcwR8G/0tNicbipB/SSuAHYSFvibR8RzLd2AIY3k6j0vNyANUPLyDTUBZNyFkFQhYbvBA2jqiTUZYOrim0r6jMaycdlb8VzP8mJxQ0jlJYRQa6RNSqntweR/TmEbvsI9kUTGj4EnAbZPK+ZKpHm1jSnOPMhWpBCpEqA+BFUdxjlJtva7gnKTRKdodJBun/2Y/46KpzzaPQxVqYbZnKsZx0joJYPskOw7JLo1uQtIdeSrSGKDqOro21wtmVLOWMqUXdWtLI85I1CPrNmwrBTBZum/rdvE1FMY2YMv7t7/9Lc4b/KUNrDGd0kSedXcvrfAcrJH+qrMbqS61impPtCHsjPQ4MuqiVKKk6w6NJyR5e4TLDS7T1tzAmFRkMVfQipr25hUp23XCYKwBUxiFRvrUMVdS3Bdx2oB6oedWchsnFQqbCSic9tdKqTxaJkIOKdzW6wrYpIuOOxebdBTpG9xToKfA5KLAeNnFJhcV+tb2FOgpMHkp0HOxyTt2fct7CvQUeJwCPRfr50FPgZ4Ck5sCPReb3OPXt76nQE+BMeZiLnZ5MNH9cV8aAEfdHl7E/eaUOCYBODUpHmDWEY5fveoqI3cNQsMGXqCtt3niU5xtaapbdRNf9cTX6FjWVHTXp1x1eV65khLPv8tI+twxocAYczH3sFzLdDGi3DjXDt0vdZycwNxOdJcCE0wpYxVwU0aT2i6Ijl+92p8jr3fZQ5MutBorOowSj6bGVfJR4pn+i7tZYirmL2cb21yeV2effTb3FY0F+8Qxp8B4vaMsN9Qll4ofURcgXdupX1gv4xl97rjWmyOvd3n0je8xjAcFvK7l32aVVVYZD+Q9zvGgwGBZzD14PpjcluS0ywXo8M/lxqBLxq5oet3qvrJLyfXGuXPIzaGrpK6Jusvq5Uo8wSNwxdMK7g9d2fdzzc/FbtfNBQKPsvzwuNjpruC2227r9mOkcz0G3q1lF7JVLZc3mFS167Va5TYmTxgutbtXnbK8+OMQwoVPWW7zJ4R5vYHcgyHuH9xT9RAqOpuQpACXZJrh9mmkaIMi3hVE1IsFt96FE/LGLgcwiayxL5Gb/msJl6GuQVpjGsYNd7quHAPkgdRLX/pSb7M9kGoTaWlJmq2DCa1b7PEmRkqZtqmIAOppsy4Tut0FhdPDrEbyAtYwL5w1TPu9/Qg8HjYqlaJc1ImmZnv0bubQ7AYiT60yYWCovAzz4s2rMjBtU1FW9Jp3EC/ATDkP3Ty0NBVJZIFcis3Vg2qU1yoydaTHfxTgutI89KaCnyJ3XPPcFO6yXhJwHxgxBSyG8s8TQjePvdhwr93NdW90LAYj6v533f1pLPt4aeFBEpbhhbPnihiHu9rmmbpM2bof0bwgZgQ5PtLmU1QnvdE1veI5Tji0JOE3ekxNDMtE9ByaN1rFkzO5vN7wMyfXPuzRdVwu99quTp94j5X8d3sfp5SHbyDjxXs87knIG7ucqqv3pV5jwcurAVK7d1eNHndzVLEyc/ewnhyiYcAU2hMM2jtKkBgQL2MeM4UrxzJ5wzWT4cbW4z0gB0RRnR3Fc84Ix4PW5NvSPPEkS1YZeZSN/1iea/r4e0o0HMgSb+bapiLg6HU4gLJretQVT+U//vGPByqJ+HXdR25qGwCeOMMjC2deUUoRL9UiXFgvAdD/HyUFBvt6tUjsTt4w2hijMoZeb4nSU0QvwkyXcH+a1i1I/ufMrdQ+u6JSZCIpdT+ieUGPv3CQhL/uUzTxoNyhZZuvzphtZpWAqjXJ9KLrRcPyemNCM2ZFViBkv4to/t+q9q7F3JUYcqgGe6kuGiZwYoVwjrze5aiusS95XRHOHZ96W2PFJi+vBsim0uhxt4KnCxdrbE/iYqomepsPyY1ygbzabCvCj8ITISTa7GGNVa1h+DJWaO8RNiIISLQXJo/bNXEN4QJyuZWfV7rmYaIDyciTNYcnwApTMUbBKBPHAmGFi+WUD4+J4SM32kbci3Wh2WRhVhGPiuDJuVhhvVS60EeHo8BgjdLMICzYLdPju+Sp0oL3C6d0uX8bRfzIboxBdmPiGFGcNwVNNIMjt/C/7lPUdHSil4pYDBG298oKyz2p3urie8sD7zgkpf+mIrb9eP9otVBt2oz94JN3PWDU4UZlGTsGFk2ikgDDeRl0FYfZO9D0ujs1oC3Q2Jc6sOVBuCAgeEetX04/84NgMnLd424dSZeUQnuwIdI3jxTs1hXnH43k9TERDmnZDeJ1KqIxDjjaC0nWlMAgfM8BmB2LrwtMlv8yKrY3rXJTaxuRp9wUCN/TFFgpuO1pp52GxYRrrYFTseCl1rZnByJkYUyhn+aUN9CxLsjC2owp605qUgQ6rpdKqT7anQLDWPdpfEYrP8Rhr8EdKrXSxSgsILEDlgWzAVOrwDRGnV3anFMW3kTWaCtr3w5JAZPq6DGVOKAxCX8hoBltB3Mcb2Bb7B24GFcN/CJwKmA14mJWXazbAubGrNSXem53L6+QKN6xg/WK8pRKe+xY5A52t+SnLAdO4UTeOIOmcKWseN4cQ+kjDNLtWPY2ZlOSLFaCpDiyueTzQqlUHkjI88QIs4fiI3yHcT3EcElWsrVE1tBTEcPCvLBdE9iWiWdV/ETmzQjfYRh3nijccb1USvXR7hQYhovZ3wxq7tewsT4mfBIECT8+gHTMMcdUOILp21gQ/spcoYd28Slqq2SAq3hMbayiYyK5oM2vQAgLVh2/VG4GcWLFBwt501eafKCoDX9bl9vgI92pyNBeXuuY0xFKPaucgjOSbnSZisSAUAaWG3KQMxCbWQCHshZDiVuZReRZy955iL3KiQHkDEzskiE4D6yiAkDW44DI4Q9pkbOKsBiCGTgVK3hSdKDL2QQpQLT0P+fakdtxveSo+vCIKFAVoLoUtinRbpxaJmDSUP32JsGE97FgYSCTv01hO6r/LAgJQx6gwA7hU9Tei9kxxJQ9puYVlcOuPjo3aDtxt/GanWwx/hO+KLaULMKgTgWDqyAvd7kCXImGVkvXCzkLK8yJWQEuRMPXVbqmB0/bEDQi4ZXM4R1rICuB44tGmDzRYQuZNHnrlRU7n/ENMITCcext4RORskzqcYQaYlqOqmPYeas++kwcW60z8aQfFKZiGbOCAJLsmfvIrRdUqW07TfgEUFgvJi3GXbBvJCR9oECBYbhYwVNlXpOpyXer6W7q8zIa51ABEE4Hcz+iecHhfIq2+erMMXcJu59BpOJw1ZKwDHwKs7FUmMbMwje/+c3hCVJ/RVlJ4riqUqrc5QpwJToaL685KgIOCzrjtK/zOnmAtu1JQ14qhbEkvWYkwmV4UkWilNUYIHPR6eiMzHmXXXYZcZLjUwJXkEIRXMzGw5VgsC3uIVEPDRu3gcYqKom2CsK4yxDM+cxkKbcwFRNMYyDYa6OP3ICnq2JDrP5UftOGQ9fYaXJshfWCS6qCK8Qcvg+PmAI25PLPcV7u0DWA2zxV5p5UqWNxrUGb2CysdoF0EmRoQ/bGKdhi84KqcHKUfCWynRd8iiaHlu4EJZt67jE1xI3cJydLrYsj0ZG83jiuckoQRKRLmqAF4sR1p/Q5SzYjq8hSTEVy5BIrXS4750xIIoDptHl5rQxQxeNuBY/cxGQ11QAlR7iF9pC18a9whAshRsNiSAdkty6Tl/DiQoyyQVIXsuKAMloV9weZ/1MjY+dwdhEpZeSpVB6wmamLLpknFqZivdfGEQZmXxgo0W0+cqNtqBcSnz76pioZOerNnb5KaVsvcR2Enp63tg+PlAKj8pJoIAe6P3WCaQ0Qs9NUjgntvyniWAqzqG9fcplvhvApagrSmEgcjThT1Y0B1mtKE7fLlERHaW4zNIKNJrHc5TJmZYf28lrBjLD66FdJH6cogcs0MChdjJvj1AZoC1OxXCmuXfCR6+KraWzzG9i7Luul3JI+t5ECo+JijRgnb2LiYknlmbx96VveU+DJQ4Fh7GIzKnWSMXhG7WDfr54CMyQFelnsf8NKG6e1DXfV639Y+lBPgZ4CE0uBnotNLL372noK9BQYawr0GuVYU7TH11Ogp8DEUqDnYhNL7762ngI9BcaaAj0XG2uK9vh6CvQUmFgK9FxsYund19ZToKfAWFOg52JjTdEeX0+BngITS4Gei00svfvaegr0FBhrCvRcbKwp2uPrKdBTYGIp0HOxiaV3X1tPgZ4CY02BnouNNUV7fD0FegpMLAV6Ljax9O5r6ynQU2CsKdBzsbGmaI+vp0BPgYmlQM/FJpbefW09BXoKjDUFei421hTt8fUU6CkwsRToudjE0ruvradAT4GxpkDPxcaaoj2+ngI9BSaWAj0Xm1h697X1FOgpMNYU6LnYWFO0x9dToKfAxFKg52ITS+++tp4CPQXGmgI9Fxtrivb4egr0FJhYCvRcbGLp3dfWU6CnwFhTYDAX87nju2o/33we65aMGJ9PeR988MEjLtZUwMeor732Wl/SjUyfAf7e976344477rTTTnfeeWdTiU5pvu97/fXXdwJ94oB89knffbK73ATE2XXXXZGlEWwMxyLHX640h3xiwx1p+MQ2ckaufeDHxLfeeut6/9dee+2BBccb4PWvf/3znve8ManloIMO0scf/vCHgW3dddcVfdaznuXzuldfffXQVbzwhS9cZJFFhi4+MQV9MVtn8etydb6PDeyAAw5oBBursdhvv/18nj1VUa40gY0+MO32qfed++N7Tjj7wSuuGQJbRxoOgVmRhx9++I1vfOOJJ544XPEnQ6lZTM0uvy9/+cs52NOf/vQ8OtnDr33ta2effXZsS0duuOEGEsehhx76oQ99aJT92m233e67775RIhnv4vjsZz7zmVVWWWW8K+qC/1e/+tUf//jHLpBjCHPPUafefeAXnvLovwLn/DtuusgBu4wI/7jSkKD37W9/2444oiY9qYAHa5RBjm3//4+0cvvtt7/61a/edNNNH3300YChmLzqVa/62Mc+JnrNNdfIXWaZZRZYYIEll1ySQHfbbbcF2DnnnLPGGmsYGBv4U5/61FVXXfXss8++44473vnOdy699NL44wc+8AEjB/j+++8HaY3Zn5dffnlZO+yww0MPPRR4Kv9vvfXWt73tbcsuu+xiiy32hje84aqrrkoAf/jDH+D58Ic/nFIqAbWfeeaZOnLllVfa92xftj5F9tlnnwrkiKJXXHHFRRddFEX+/Oc/a95yyy236KKLvvjFL/7EJz7RiMpu8aIXvWiJJZawMJ7//OcfcsghGlOHRF7NO/744/OsDTfccJddHl9+A4mPUx922GF6+o53vGPWWWfV9xtvvDFQScHNF154YQ0wguTTvIq7777bEDzjGc8wFjTuIcYix1YJf/KTn/z5z39ODdc1vz333DMA7ASmxDOf+Uyk23zzzUNAi6y2QY859p3vfOdNb3qT+aDBtqVKdSn68G+unXu9Vy318xOXuuSU2Z6z3L3Hnv7I9Ten3C6BCg2/9a1vrb766uo1/03y7373u12QtMGsv/76sr761a8GWS688EL76wYbbJDgAYQyIeU3v/kNsB/96EeRaxq/7GUvW3DBBU2qz3/+86nIjBYYKHCGRmmW5z9mFAX33Xdf5MC2hB955BH8aKGFFjILRX/wgx+Yc1tsscVHPvIRM2+mmWZC3KiLDSWIuNJKKwGwYOaYYw7/LV3r/LnPfa7cn/zkJ4DTfF188cXf8pa3GAxZ2GngybUY7bHq5p577m222eZd73rXfPPNpyX33HNPQF588cUKBnuKlMr/kDQxPr9XvvKVgF/3utdp25FHHlmBfPCXv7vuaWv9Za1tHnv4EVnTbvvrDc9e/88rbvDo3+6tQIqmFlIKVlhhBa3Cjk1BXGzOOeesw0vBI1ZeeWX6HZ77kpe8REsOP/zwOiQuv9RSS2FzKSvYpZkqZSDxDQ3MqEplDhPnxz/+8UAlUbM18r3vfS+wueaaC8uTlY/FZpttpgswIHWUSj0VLY9FwDf+P/bYY5/2tKfNM888KO/32c9+NlVqemyyySYvf/nLVWpXi+KFitIcM53w5VAdbr755sZ6mUFT+t+/cPp1i6x+//k/lTJ1nyOvW+LVdx98XOTee+r5one8e78EnAI5DQ2E2c7WYQS32247s3rLLbdMkCnQHTlS6DWE/6HKFvCHoICDw/brX/9aLkEhemG2iMaQHXXUUcK4mM2YCUg4lmpqwwwTeMrAnhTsYoQXwtfMM89sC8WtpkyZct555wXCadOmWWkJORlBrk1VSsywWG+i3/zmN9H3rW99q2MEURPXzrb33ntHWBYRg1Ameu+995KrqX5gRPOVw/AMf7JhnX/++QomHsRssdVWW1kVSjX+EheTe8YZZyj7i1/8ohFS4tS9DjfR79r/GOHbNvvQ45P++xc3AqcWxlTba6+9EpgdNYXzAOkmRW0MWNV6662XUvIAEmnn5ZdfHokko9lmm80xjOhA4tu9Y6IDzlegaN6An/70p6r4yle+Ij0YShoLQ//Sl77UWMRWkXoKsjwWAAo/DSMJJoCoFPIYcTPKYqb+B0Chophjid/97ne/05EvfvGLCXNb4K6PH2VA7VUA/nX/Azet9vbrFlvzwcuvfny7Wm7dG1fe+NG//6NeNqehhaAuMlGAmdWNc6k78gceeADCfPJ8//vfl2KiqsL2g2mK/vKXvxTFsik0AsYxFB2TQRSPM5HsnSF/SJmRfl3tYsHjESt+KCWAf5188slkh4022oiusccee5B3AmCWWWYhlJ177rmG0KbhqA7VUNBOGwBhQRd+wQte4D9JzbYvQAO1dC3OAPOfiEfIEiDLrLPOOtQ02CQmAIEf//jHhIif/ecnSvbx/09/+lPA0EZPOOGECI/+/8L77PTQJb+958hT//W3ex+48NIFdtli7nVWK6Ol0WDNX//615/znOfoAl3jNa95TWMRfMFmyzBn4U2dOtXhadshKanzwAMPpDLg7PjdaaedhsWQWaAdSHzqFd22sQE4BeXFtkRyoWiDyRuQxsLQ0zetHGNBW8lRlccih+wYJh2bFYAtV3WZVFFwYEXWbUASWrF4rSU8Fip95Lq/3HvC2bOusPTsqz7v8ermnnOx4/a7dd13/3WnA2ZebOHHHnxoidMPm3mBeQsYZBFv/Sf+0IIxerM6RMhKqeGQB5JXvOIVphMNg4JCd37f+973ta99jRpLeNfHNddcE5hxMX/wPpNB1B5PibG7s5nYBiqNmezRrlwsDC713hJl6eQUJbqARZUALrjgAiYz3MS0s7taG7fcckvKzQPWbR4VlmLrqCRGNPRNEkcll9VJXaHhRhZJPvaoCuToo1NmncXkvnnNre876bzZX/L8hfbcfiBOi5AdijxvqwRstn3qU59aa6216gVN/c997nOYEX6B5ZGY6jCRgg3hI6eccsqnP/1pIjBphf4SWd2JX0GOYRF8THRDZuVrA5miApOisf1YKiklAuM6FqQJc2mIinCTtkkV2B69467bN9+djX+xY/eZ8h/pRvrsK66w8Cd2vWu3Q6ddf/PC++48x4tXDODC/4033pidF0/xw0GogWygodJWSg2BPDDoC/5IPrCmbOp0DmqKStkB7Nxh/yVDALa1p0qtCOG2ZZjAJmOgKxdr6xsp4LjjjpPLeG8PTwsJR8OMiFSMsnKPOeYY23sbku7pv//97wHHeOSlLHsLb5Rm1BxhOfzvaf890Jgy8+PCfJefbYB9kJDFXk4oY50lmTII5mXREAtjkAYQkimRLbSVHCyF7a6ORNiwbcWkY1JeZA1N/FNPPRULY5+yLUFFvq4cIKSqBcK0n6+TyB3lWJDZ81oK4VFWlGPGwm7bcNdHb/vrEl87aPaVHxem/vd7ZNp/wzPP/L/E9hCNAUPBXCgGAhYFnY7K0lyiM/IKC7aBEai/8Y1voD9Zzx5mpGxpqBeyGOKo8be//S1hIqqOiRTG5ebGTNrUrouwrYO77777ZZddRhZwVM9OwToekExUNM1gYVJYB9owjCid3dryTmhTWYIDReymm25KKUY9iWyxU11yySUpdzSBxx546M5t98bI5tl4Harl3fsfOxCbScYmyE5hZ2aDc+tKNIxledmgHj0oWJgZWaYbhWL++edn76MpMF8m2XNo4iuoPezo0aoCAwWgUhvVSMeCrc3arktwUSO2brAiPPB/edAHFk8A/2Vht9y5+IkHzbX2/zMOPHTZVXftc+RsL3jmbCsuf/e+Rz94catkmrDRxIWp+ZaDHWu11VYzaVNuHuiInC5Mf6+QhSBP+TCRbIe0RRvYvPPOy1RKN2I/UYvTJJJgOqyUEnt8aDN5M2aAcFdZrHJLnjrjoMoJPXuZW1HMYUw/FBCM35Ufi5Cl7KSTTqI3meUs2enMaAiSnXXWWSxllitzpr3FUFErKniYISwqYymXVEJkY5PWQqY6kG4eaI9G4raVgkNEp+526CPX3LDwfu+Z/92bTLv5jnuPOW2OFz53no3WLqC69NJLmbEQypxmDkcZy5XwWCniqMQWesQRR+ggLmwbZ+ZA1QpYigIj36GteQx/Sh+a+Ap+6Utfes973mMcHYngjwlnBOiqeIfzX4PiR4UJhpuDFcaCMvjmN7+ZbNKm1zAqGWWLk8ZEzGctzTFXwoWKKpDl6G0b7DLthltmW+lZD110hT/AMz91wQV23vxfd/39jm33ftyA8MV9nYLdsvZ2d26/z5IXfnmWxRcpIGTWcOXNYYvxNQ/tVWlXyEt1R46FYUynn356mCDYGVZccUXyF+5mdzRk0NpObH5so8kUSOaiGDnQYP4n3dOEjj76aIEw2+UtmRHCNvzyL18eqcP4BcWbuccaM9sCA7URAGVE1PgloyaWZ+7KinMx60TYHa4oFXtXOrKUaLswGAIGCST9kS1TwMr/4Ac/mKpzKcxwBhL/cbF8hBxmOcqJ3Lhp4fwrAVcCWB78ccSJNQs3nisp9Y/TLnCGdeuGu+Iyoo/ceOv1y7z2+qXXeeSm2yo4RVMLsdHEjPTCNQ6trcNLIaklG4oDED1yp6ERMhLxR601HDlMd+Ir5fwXBmtPGJehomqhFOwp9EpbkSzMV6KtPiQ+fNOxbxwry009FfZrG4tobbqfEcD5f+cJlqU1qS4GpqiUXSnBKEvoSNG2iipzDDzOa1WngnnAKaQxzf9uXHVTALe9fQ+J9xx/ZgALiN7y5vfmZSOc09AIOr3Rfj8B1yxYG+tFuiNXltEgzR9af2BzJc3WnpYDK4QadTzVRZRmhzVS/2nL4zeNZsgDSv0dfNMiEWWIAFujq7Cx4IcoHlzMzmy1OHNJA1ZApQi9zP8CzBOVRYvUtrTy25rhEgN7okvFbQAd04cmvoNRZp243VKvi57OhgCmnlVJqY+Fe61WFIG6AlmJYl4uJ2KplfS2aL2iNsgJS8eO7dNDz/zGdtrvh2BDeJnp1GW8GiudFIlTtDJY9XT432wmGONiDoynw+b1TRopBdy9tLBzY81IMfTwPQXqFOhqF6uXnICUEIaT0XoCauyrGFcKUOs8ThjXKnrkT0IKTNeymPGgXrFuJt3+SThCfZd7CvQUKFNgeudi5db3uT0Fegr0FBjtfbGegj0Fegr0FHhiKdBzsSeW/n3tPQV6CoyWAiPmYs6/uzg4Hm27xrq8223uaowSq3uDHH6NEsnQxZ0muw7udd7QGCZRQTcDTLPkQ7yt5WWX1u4DV25rt+GZgHQ3VAyfFyZd6ir3qwuGJxfMwPsgFSfC4+qcd2BjhgbwIoQDshEVr3RcWZdL+UQbEZIxBHZHwdT0AGAMcU63qCo+xNva6aYYmriL0wiQ+wtqBJjIxFg4NsJ6pd4SuZKa+6Qu96uO4UmeMvimRcWJMF4w/Tg47r7hDOE8utLx7nX1kKOnQO5DfPTYpnMM9JveJ/VoxmiARll3IuwxUO7g2JMgT5S8uvBCAoPzEoVjBtcavbn3JNAzIK/tUvva/Avbi7yJ80BPEc/EuGpoe2eXUI004DJ6Eua5jhnoPLre8VSjPdMrP9dxOdjJX5i39S4VjIDr154Hhm/ISCH0edcd4aBnWxU5Ktu1Z3HEDZ4n3LOHk4eWNs/OENY9F3tVqpSb9IGWjwTYQuKT4pmxQRHo7v257EfbJOGmyXsy88RY5864o9ce87///e/nxgOku++mmXs20TYvaTxLND2UNbWG86PtOTR/DzB4KU2584gikA/831b7QLIzYhCyeAHgeWLnnXduq8jbOFmezRoOP++OA9Jjj7YB7TjZ2mqc0dLLsmjdiXD4OfDENApSslAEa/PoL3yBczTmepf5+va3v907L0/JAtLqNYEanUqbxJAYSx64uPqDjSe8csPkjqvz6HrH1RiddX/NHXTvpfkM8FZ0YO8qHfG2RmdzP9RQeTsZYIUqco3SCuQqz4NHM17BUECgtc7rnp3bPBdzwqMIX0BRdfhCwOtFvX+SFS8o00v+gd6fyRTe7eNQgdD/2DnikWzBGbdee7bpgSSSmj/e8GNkGuDBVqDCBXDY0fjR9szQtPSkly9Wgp6r1B7Sp3aWAwNrbyS7Ce+WrzHyNJX773Am0ahR1n1Slwe0sJTKHZlRcwe/o6w4Ea5zMbwp+ec1M0y+8HGMZPHKmttSYbufaRQvrkW94wUZTqWtH8+eE4k9AGSMT9FCYFydR1c6rhkWm856lRZNIqpYDEQh0ULvKu0fyMXaqkhczHtSMm/O62PSW+cCqsNNkmfngudiCC0znj8UCadAusPVkmicIZA0hYOLdfT+XPCjnfvC1gX8Lt78qwJhdYctLD3erHCxvOwQfrR50VAdm6Yuq86PAmE2kvgiWv5frr2R7BDG3kySDeQFu1jdJ3VhQGHrPtnK/ZphcgfbxfCa8s/maX4EDP+fNr2KN2rL3v5c8C+MhfE/wUbL+z6NksBfrjHljqvz6FRLHtBZBwWRQom2KrhesbcXepcX7xJuqyLKqtEKpBxxiReaSMLZ6Nm57LmYLyDeO2Cw2Hywh7MNzr/oejwC8S2e/CgASC5fDGXB+7O28dFIga370eapgmjW5oybqBIe61N38gC+TOEa2o82ZyqeUnN4F74uYA5v9DhL8j+RV1cJl2tvJDsMvCSiIR5XwdY92oZ5DCdb98ZMz5BjwMXy7oVPlZQSPl5MAikFR8aEGsfq/vsxIpjNdhvKRcLTFhhX59Ftlab0cK01sHcJfohAXkUU5zGKwMIk1+i1KlWRPDuXPRdzWYVtMbLgYlzi2H6sc/IyLmYJtQ2BVmGmqa48QGVjt2r0o93dGXeOUHj0frTNPXiwldwzJQsdkbBSVz06otoT2eHBIrmTI2PWcQ6RkmMuLKUhMM8ARQZzCp0keY6+q2wHbU6lGZ65xPL1NpstD4LMH3wuMpB1qXScnEdH1d07XuhdYy+S3boxt5CIaaIM1oPR08cLkJGlYQJtnotxHLmw8fzlapVVx5TpQMb5bOHznYG57X+jH+2ROuPOkY/ej3YQwacPkkf1HH85PKLac1QEMRwwTymH2zaGeqmRTrY6hhksZcAZpd6SpyrecocjAU2EQtHoVFqiWggClMpwz5+OaSgg1lgbNxk/59Ej7XihdxVyYRNSQkQS0LXwBVgBa4vyXOjwjjGLzZ71vQ0spZc9F7MAWBKMWf4TvqiKtFSrXZOCwSU83QONfrTD7kYtDelSr7sfEY7ej7btk0xEQsx7wfaUZLGCH+0R1Z7jJ5bqNcE5ElMgh4lwo0/qOlhK6T7ZUpEZOzCYizFaORPBX9hi0ke0hiAKbdGNZHZcRhOKPTmCWhQfp2BDcQ7N3o/NxYeU4iOgauFOnqbDitFY43+dR39sh0WP3svniDiPvv+s/55SN8JLJHSY0xaqulzSaXMeDXJEHS/0rtISDnJ9wNy5h6+usGGzTOHUFZhClJbHLM1I5NLARz/6Ue0vAMsKz8W83TpW5t3QiWTuuRgqDbCeOeN19goetUUdJcd3c8vIG3PDj7bLEEaNmSxgkjNuLdd3miyltbF4PVGTJPKjTUj0wSfctgLDj7atDieitIJxIBi8MoH5ogcBX5OgAmymYdz4O1UaDPFW9x0UNmrQA2tPtVQC+k68ovhzNm1Wu0FSAUjR5JPa/Ru/4Pgptx7oPtnqZWfMFLti+eccx0AmJ8KxpYSDYwUZthlNEwbcAZmSn9IYD7M2ANr8C7u9ZTsK+joocFcrIYzPHdkzU0oKjLfz6ErH1VvpbHwVgjfhaFJb71KDU0DBxCMY1F3X4Ak6cgtVWBKYjlsIAYnXOIgkYtgSQppr8+xc9lzsGgTKuzsWaI0vNqRVqbUj8v4cpRr9aGPZbc64K72GxJzRqjjRxmVG70fbnUT38lzmiGmGYZH9wwNq2Y/2wNrbyI6JJ2dqVA2Ktqp5dU+EzQMVn9TlAVWw+2TLa5lRw10981AqUdZx9eh9FsLDSuIkLj6VGrOKnYiSZf0E24rE8ftvraqOTFTZtOs1jrTjjb2ro5XiGxP0OL/G3DFPdIWSvVmXSWdjjrwjQhyBhc4Qu4HVsUgCw7VZHnyMJj6xnNIj4L6LKyzMqeXeWcbkLzqBT8ykkyg3PPbcc08Niy9sVjBHtFx7Y5HUMFe4ncCmfboADFKrHHAVYPKs7pMtLzXjhbtysRmv532PegoEBXo/2pN9JnQ6o5zsnezb31OgQIHej3aBOJMiq5fFJsUw9Y3sKdBToJUCg88oW4v2GT0Fegr0FJgOKNBzselgEPom9BToKTAKCvRcbBTE64v2FOgpMB1QYLrgYh4ke0/Dpe8TSJCOLpLLLZweOtLYQvdFXPtyhTh8qLp65qrtjjvuuNNOO7n1MtAF+ZgQp7FhfWJPgdFTYLrgYh5RHnHEEa78jL4/dQxeKT140RX3Hn/mP7970b8faX4DoJRX1txp5F4P66gqKe6Ce6+T3hLJHdeOVGrvHvWaz+08ryM0j+8QBb0EcueTM0s/fpN03DXmAsIhiFPHtv/+++Ob9fQ+pafAKCkwg9+0eOiyq+7cfp9Hb/1rkGnWZy+75AXHzjTv3HWquT7uwqHHSfWsthR3FL1hcvPQFco2mOkh3aMfN9d5bfOyT3u4qSGI8ezqUY4oMW2gC/IhiFPveO8BvE6TPmVMKDBYFiv4UPbcn4Ndyzg1xXO5cLTgcrwsEpZHbRaPK+PWjAv6HCd4seSGjoWRvwyHgRzk4YuLy65Qn3DCCQmnUrbxVVZZxbVsLmQ9w4ysqMIS9TKOT2FP8yzUVCoCj94+9SmzzbrE6Yctc/U582270bRrb7z3uG9WYCKau0ju4kFba+PJ55Zbbvm4m+E11tDOQEXk4Uua4ypXyTGLvLruTpO9h0cNMpTb6p74pbd1jb6no4pG5DgUf2Ee3EQ7Pd7kQ9kVdni02Ys8b5hyF+Su19M6ueRedNFF0XyvvfbybDsnjrraRqTg27rgATynTx/uKTAMBQY+rfJ+G95GN83xWbP0ahIqD/28yBXwYiNaYzFwwIBziXotSN6hznBVKorBRe3JJzIwKzaep5AXIpfrRGi5WPBMxJJW0IvZVIV1LsVzX5zRA+Mokv9nA4rotNunXrfI6nfssG+em8K5c9EuHrS5fuRQSNW6o83YqPWfOuLFiZR4Nsg/X9TS3Wmy7UGXucDlh95zYq/w8HFI2nxPy2pD7kEiUREGjfQDFq+psUhRW07FeW98AcAeYxwDkjf9nDjqahuRQvcbPYAHWfr/PQVGSYHBHqsLbpoHcjHcisKiiXzycrfkGaYlES2WxRwT4Zj9jC8RjQ9HEmdEebbDKWINi3ph6/Uldw7CwSh5KCWD4CBSyr8HL78aF+PkuhEsX6gdPWgTA7UteeuGNjrS6NxZyzs6Tfb0HfsjyuEv0VQEYcAq+J4uI7eLJL/+EJ5xxhma7SAikOdcTC2yttpqq8jyn3g1derUnDiFESl0H6q6B/BUSx/oKTAaCnSyi5F3Gt00m/Hlny9ckJLAeOaNNfAogHNFEb4raILe5cqKFNpoBChiNNDQobhOlOgJOh4Xud4Se0cdYf+33357YkWKtgX4or9736PlzrvJum0wKX1oD9qBgXQWgdy5c3enyd5se7HMi0NywIAgfhw8YChUvHAgQ1jjJoFvAx8BwcpH45E5dTxc2hO1Uoq9JIUjMHBEGrtfQdJHewqMIQU6cbG8vnACQfbJE7uE6ZLYbYIUFW7Dg8eFXGDxAwtNKpVt9GqQcusB9U5938EP/eLKBXffZvaVBtvvWYuG86Bdrxq5qLTSuztNDkjyZgVbHIbm3iDC/4dDhqhiOI/MeS1RddpO8qwUHtGIpO6n4n2gp8CYU2DEXKzegmTVrmflKWSHPFoO055iufogEEh6aLhILZdqzH2chX3wkPtO+858W2+40B7bNsJUEkfkQTtnzRU8eTQ88HRxmhyOWXJ5M/AEhkbf092R502qh1PVyf1ZHWY0I9KRVvVK+5SeAgUKDD6jLBSuOF9OFv1CkS5Z8PBNSh0DvOKKK/pf8TUcX0vsgurfjz029f0H33fSeQ4oFznk8a9edvkVPGjnxUMXzo9o89xKeKDT5AQP0lkKY19KEdDlgu/p7shznPWwQwmJedV6R+vPIYceEScMjKQ5KgPNR2t3p6952T7cUyBRYFRcLIxlvmDIYOx43hoYzWbrQ7O0SIYeZmAu/eLrFT5wyZTm0JCjTk5NTz75ZGd/HT8sopN/O+i4+045/ylTpsw015x/2//Yu/c7xt+jdw64XlvwoJ0IJ8B85r+OO05ltgu1LgfIw2WnyTmkvcGVeocGPIUiCNq6ROKGRMH3dHfkeUX1MGqzSHLn7+ySfmpE7CWVCzFDj0jdAzhLHzfCLmHUW9Kn9BQYAQXwnfLPoXvuk7rippk//viiHzuXmxAqxnEgDAkld+ZLTXNBKdUVl8Xd+ZISPpHT3VFmr+TkWi4fnr46Hl7h4XejgtP0xioS8hRwr8K5ZOXvoSv/kABSIHeRXPCgneAjwIIWmq/zB2eLZefOBafJFbTI4klW8g7qwh3mDqbge7qAHN9JHrEhcTsMGdMZpbpEkwtyhyqGSYofIwAG6qsLOXFgaBuRcvfrHsB9+kAt9qRK9/toT4ERUWAM/Iuxi9lU7bRhsP/P/B/mn3azLpPCwp18BQUeIdd1DQemIzKxVfB0jOpURw/aDiisaob2OPcYiF83606TG0tpA8y6nFv0QRZ8T3dH3lhjSsTaHBrgfWpPiZXAcCNCqbTDjYnr80p7+uiTlgJjwMWetLTrO95ToKfA9ECBUdnFpocO9G3oKdBT4ElOgZ6LPcknQN/9ngKTngL/B1wnNUHqulkbAAAAAElFTkSuQmCC)"
      ],
      "metadata": {
        "id": "liDjFR_t7EXK"
      }
    },
    {
      "cell_type": "code",
      "source": [
        "#what would happen if we increase, or decrease, **one** of the independent values.\n",
        "x = df[['Weight', 'Volume']]\n",
        "y = df['CO2']\n",
        "regr = linear_model.LinearRegression()\n",
        "regr.fit(x, y)\n",
        "regr.coef_"
      ],
      "metadata": {
        "colab": {
          "base_uri": "https://localhost:8080/"
        },
        "id": "0MWHNdc96i7S",
        "outputId": "0eb3d390-7ebb-4c7f-c93a-53bfc1def7f6"
      },
      "execution_count": null,
      "outputs": [
        {
          "output_type": "execute_result",
          "data": {
            "text/plain": [
              "array([0.00755095, 0.00780526])"
            ]
          },
          "metadata": {},
          "execution_count": 27
        }
      ]
    },
    {
      "cell_type": "markdown",
      "source": [
        "The result array represents the coefficient values of weight and volume.\n",
        "\n",
        "Weight: 0.00755095\n",
        "Volume: 0.00780526\n",
        "\n",
        "These values tell us that if the weight increase by 1kg, the CO2 emission increases by 0.00755095g.\n",
        "\n",
        "And if the engine size (Volume) increases by 1 cm3, the CO2 emission increases by 0.00780526 g.\n",
        "\n",
        "I think that is a fair guess, but let test it!\n",
        "\n",
        "We have already predicted that if a car with a 1300cm3 engine weighs 2300kg, the CO2 emission will be approximately 107g.\n",
        "\n",
        "What if we increase the weight with 1000kg?"
      ],
      "metadata": {
        "id": "UMWf5Uf78EGn"
      }
    },
    {
      "cell_type": "code",
      "source": [
        "#so, weight from 2300 to 3300\n",
        "\n",
        "x = df[['Weight', 'Volume']]\n",
        "y = df['CO2']\n",
        "\n",
        "regr = linear_model.LinearRegression()\n",
        "regr.fit(x, y)\n",
        "predictedCO2 = regr.predict([[3300, 1300]])\n",
        "predictedCO2"
      ],
      "metadata": {
        "colab": {
          "base_uri": "https://localhost:8080/"
        },
        "id": "g3blxVZZ8e_U",
        "outputId": "82f161ac-d48b-4d85-b569-6c54c187448f"
      },
      "execution_count": null,
      "outputs": [
        {
          "output_type": "stream",
          "name": "stderr",
          "text": [
            "/usr/local/lib/python3.7/dist-packages/sklearn/base.py:451: UserWarning: X does not have valid feature names, but LinearRegression was fitted with feature names\n",
            "  \"X does not have valid feature names, but\"\n"
          ]
        },
        {
          "output_type": "execute_result",
          "data": {
            "text/plain": [
              "array([114.75968007])"
            ]
          },
          "metadata": {},
          "execution_count": 28
        }
      ]
    },
    {
      "cell_type": "markdown",
      "source": [
        "We have predicted that a car with 1.3 liter engine, and a weight of 3300 kg, will release approximately 115 grams of CO2 for every kilometer it drives.\n",
        "\n",
        "Which shows that the coefficient of 0.00755095 is correct:\n",
        "\n",
        "107.2087328 + (1000 * 0.00755095) = 114.75968"
      ],
      "metadata": {
        "id": "3cO9OXJU9GEE"
      }
    },
    {
      "cell_type": "code",
      "source": [
        ""
      ],
      "metadata": {
        "id": "2xhrOjHG9G1j"
      },
      "execution_count": null,
      "outputs": []
    }
  ]
}